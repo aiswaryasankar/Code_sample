{
 "cells": [
  {
   "cell_type": "markdown",
   "metadata": {},
   "source": [
    "<h1>Data Preprocessing</h1>"
   ]
  },
  {
   "cell_type": "code",
   "execution_count": 15,
   "metadata": {
    "collapsed": false
   },
   "outputs": [],
   "source": [
    "import scipy.io as sio\n",
    "from sklearn import preprocessing\n",
    "import csv\n",
    "import pandas as pd\n",
    "import numpy as np\n",
    "\n",
    "# Spam data\n",
    "spam_train_X = sio.loadmat('/Users/aiswaryasankar/Desktop/cs189/hw5/dist/spam_data.mat')['training_data']\n",
    "spam_train_y = sio.loadmat('/Users/aiswaryasankar/Desktop/cs189/hw5/dist/spam_data.mat')['training_labels']\n",
    "spam_test = sio.loadmat('/Users/aiswaryasankar/Desktop/cs189/hw5/dist/spam_data.mat')['test_data']\n",
    "\n",
    "# Census data\n",
    "census_train_df = pd.read_csv('/Users/aiswaryasankar/Desktop/cs189/hw5/hw5_census_dist/train_data.csv')\n",
    "census_test_df = pd.read_csv('/Users/aiswaryasankar/Desktop/cs189/hw5/hw5_census_dist/test_data.csv')\n",
    "\n",
    "# Titanic data\n",
    "titanic_test_df = pd.read_csv('/Users/aiswaryasankar/Desktop/cs189/hw5/hw5_titanic_dist/titanic_testing_data.csv')\n",
    "titanic_train_df = pd.read_csv('/Users/aiswaryasankar/Desktop/cs189/hw5/hw5_titanic_dist/titanic_training.csv')"
   ]
  },
  {
   "cell_type": "markdown",
   "metadata": {},
   "source": [
    "<h2> Titanic Data Preprocessing </h2>"
   ]
  },
  {
   "cell_type": "code",
   "execution_count": 17,
   "metadata": {
    "collapsed": false
   },
   "outputs": [],
   "source": [
    "# Impute missing values, use fillna\n",
    "\n",
    "def fill_null(var):\n",
    "    titanic_train_df[var] = titanic_train_df[var].fillna(titanic_train_df[var].median())\n",
    "    \n",
    "def titanic_preprocess(data):\n",
    "    # Pass in each of the numerical columns and fill with the median\n",
    "    vals = ['pclass', 'age', 'sibsp', 'parch', 'fare']\n",
    "    for val in vals:\n",
    "        fill_null(val)\n",
    "    \n",
    "    # Note that the embarked column also has missing values\n",
    "    # titanic_train_df['embarked'] = titanic_train_df['embarked'].fillna('S')\n",
    "    data['embarked'] = data['embarked'].fillna('S')\n",
    "    \n",
    "    del data['cabin']\n",
    "    del data['ticket']\n",
    "    data = pd.get_dummies(data)\n",
    "    return data\n",
    "    \n",
    "titanic_train_df = titanic_preprocess(titanic_train_df)\n",
    "\n",
    "# Split the data into data and labels\n",
    "titanic_train_labels = titanic_train_df['survived']\n",
    "titanic_train_df = titanic_train_df.iloc[:, 1:]\n",
    "\n",
    "titanic_test_df = titanic_preprocess(titanic_test_df)\n",
    "\n",
    "# Train_test split\n",
    "from sklearn.model_selection import train_test_split\n",
    "titanic_train_df, titanic_val_df, titanic_train_labels, titanic_val_labels = train_test_split(titanic_train_df, titanic_train_labels, test_size=0.2, random_state=42)"
   ]
  },
  {
   "cell_type": "markdown",
   "metadata": {},
   "source": [
    "<h2>Census Data Preprocessing</h2>"
   ]
  },
  {
   "cell_type": "code",
   "execution_count": 18,
   "metadata": {
    "collapsed": false
   },
   "outputs": [
    {
     "name": "stdout",
     "output_type": "stream",
     "text": [
      "(32724, 65)\n",
      "(32724,)\n"
     ]
    }
   ],
   "source": [
    "# All the variables have the same count but there are ? instead\n",
    "# Thus first go through and change the ? into NA\n",
    "def census_preprocess(data):\n",
    "    data = data.replace('?', np.nan)\n",
    "\n",
    "    # Convert all the categorical variables into binary\n",
    "    # I'm going to remove native_country before doing this because too many native countries\n",
    "    del data['native-country']\n",
    "    data = pd.get_dummies(data)\n",
    "    return data\n",
    "    \n",
    "census_train_df = census_preprocess(census_train_df)\n",
    "census_train_labels = census_train_df['label']\n",
    "print(census_train_df.shape)\n",
    "print(census_train_labels.shape)\n",
    "del census_train_df['label']\n",
    "\n",
    "census_test_df = census_preprocess(census_test_df)\n",
    "\n",
    "# Train test split\n",
    "census_train_df, census_val_df, census_train_labels, census_val_labels = train_test_split(census_train_df, census_train_labels, test_size=0.2, random_state=42)\n",
    "\n",
    "# Observation native-country_Holand-Netherlands not in the test columns"
   ]
  },
  {
   "cell_type": "markdown",
   "metadata": {},
   "source": [
    "<h2>Spam Data Preprocessing</h2>"
   ]
  },
  {
   "cell_type": "code",
   "execution_count": 19,
   "metadata": {
    "collapsed": false
   },
   "outputs": [
    {
     "name": "stdout",
     "output_type": "stream",
     "text": [
      "[1 1 1 ..., 0 0 0]\n",
      "(23702, 32)\n",
      "(23702,)\n"
     ]
    }
   ],
   "source": [
    "# No real preprocessing needed here?\n",
    "# Convert the matrices into DataFrames\n",
    "\n",
    "spam_train_df = pd.DataFrame(spam_train_X)\n",
    "spam_test_df = pd.DataFrame(spam_test\n",
    "                           )\n",
    "# spam_train_labels = pd.DataFrame(spam_train_y.T)\n",
    "print(spam_train_y[0])\n",
    "spam_train_labels = pd.Series(spam_train_y[0])\n",
    "\n",
    "print(spam_train_df.shape)\n",
    "print(spam_train_labels.shape)\n",
    "spam_train_df, spam_val_df, spam_train_labels, spam_val_labels = train_test_split(spam_train_df, \n",
    "                                                                                  spam_train_labels, \n",
    "                                                                                  test_size=0.2, \n",
    "                                                                                  random_state=42)"
   ]
  },
  {
   "cell_type": "markdown",
   "metadata": {},
   "source": [
    "<h1>Decision Tree</h1>"
   ]
  },
  {
   "cell_type": "code",
   "execution_count": 36,
   "metadata": {
    "collapsed": false
   },
   "outputs": [],
   "source": [
    "import collections \n",
    "import timeit\n",
    "\n",
    "class Node():\n",
    "    def __init__(self, feature, value, left, right, label):\n",
    "        self.feature = feature\n",
    "        self.value = value\n",
    "        self.left = left\n",
    "        self.right = right\n",
    "        self.label = label\n",
    "        \n",
    "        \n",
    "class DecisionTree():\n",
    "    \n",
    "    def __init__(self, train_data, train_labels, val_data, val_labels):\n",
    "        self.root = Node(None, None, None, None, None)\n",
    "        self.train_data = train_data\n",
    "        self.val_data = val_data\n",
    "        self.train_labels = train_labels\n",
    "        self.val_labels = val_labels\n",
    "        self.numPoints = 0\n",
    "        \n",
    "    def entropy(self, numNeg, numPos):\n",
    "        if numNeg == 0 or numPos == 0:\n",
    "            return 0\n",
    "        else:\n",
    "            total = numNeg + numPos\n",
    "            return -(numPos/total) * math.log(numPos/total, 2) - (numNeg/total) * math.log(numNeg/total, 2)\n",
    "        \n",
    "    def weighted_entropy(self, left_label_hist, right_label_hist):\n",
    "        # This method needs to compute -(p/n+p)log(p/n+p) - (n/n+p)log(n/n+p)\n",
    "        numLeftNeg = left_label_hist[0]\n",
    "        numLeftPos = left_label_hist[1]\n",
    "        numRightNeg = right_label_hist[0]\n",
    "        numRightPos = right_label_hist[1]\n",
    "        numLeft = numLeftNeg + numLeftPos\n",
    "        numRight = numRightNeg + numRightPos\n",
    "        total = numLeft + numRight\n",
    "        \n",
    "        leftEntropy = self.entropy(numLeftNeg, numLeftPos)\n",
    "        rightEntropy = self.entropy(numRightNeg, numRightPos)\n",
    "        weightedEntropy = (numLeft / total) * leftEntropy + (numRight / total) * rightEntropy\n",
    "        return weightedEntropy\n",
    "    \n",
    "    def segmenter(self, data, labels):\n",
    "        data, labels = (list(x) for x in zip(*sorted(zip(data, labels), key=lambda pair: pair[0])))\n",
    "        rightNeg = labels.count(0.0)\n",
    "        rightPos = labels.count(1.0)\n",
    "        leftNeg, leftPos = 0, 0\n",
    "        \n",
    "        dictionary = collections.OrderedDict()\n",
    "        for key, value in zip(data, labels):\n",
    "            dictionary.setdefault(key, []).append(value)\n",
    "\n",
    "        min_entropy = float('inf')\n",
    "        best_split = -1.0\n",
    "        \n",
    "        for key, value in dictionary.items():  \n",
    "            # Increment the left by the occurences of each kind and decrememnt from the right\n",
    "            leftNeg += value.count(0.0)\n",
    "            leftPos += value.count(1.0)\n",
    "            rightNeg -= value.count(0.0)\n",
    "            rightPos -= value.count(1.0)\n",
    "\n",
    "            key_entropy = self.weighted_entropy((leftNeg, leftPos), (rightNeg, rightPos))\n",
    "            \n",
    "            if key_entropy < min_entropy:\n",
    "                min_entropy = key_entropy\n",
    "                best_split = key\n",
    "                \n",
    "        return [best_split, min_entropy]\n",
    "        \n",
    "    \n",
    "    def train(self, root, data, labels, curLevel, maxLevel, percentFeatures):  \n",
    "        \n",
    "        if curLevel > maxLevel or data.empty or labels.empty:\n",
    "            labels = labels.tolist()\n",
    "            bestLabel = np.argmax([labels.count(0.0), labels.count(1.0)])\n",
    "            root.label = bestLabel\n",
    "            self.numPoints += 1\n",
    "            #print('creating a leaf with label ' + str(bestLabel) + \" at depth \" + str(curLevel))\n",
    "        else:\n",
    "            best_overall_feature = 'a'\n",
    "            best_overall_split_entropy = float('inf')\n",
    "            best_overall_split_value = float('inf')\n",
    "            \n",
    "            # This loop iterates over all of the columns and returns the best split\n",
    "            # For random forest I need to choose a random subsample of size √len(data.columns)\n",
    "            # for each split\n",
    "            # Thus I will compute this random subsample of features and iterate over that\n",
    "            # I will print out this list each time to check that I am using a random sample\n",
    "            numFeatures = int(percentFeatures * len(data.columns))\n",
    "            randCols = [data.columns[i] for i in \n",
    "                        sorted(random.sample(range(len(data.columns)), numFeatures)) ]\n",
    "            \n",
    "            start = timeit.default_timer()\n",
    "            for col in randCols:\n",
    "                \n",
    "                value, best_split_entropy = self.segmenter(data[col], labels)\n",
    "                \n",
    "                if best_split_entropy < best_overall_split_entropy:\n",
    "                    best_overall_feature = col\n",
    "                    best_overall_split_entropy = best_split_entropy\n",
    "                    best_overall_split_value = value\n",
    "                #print('best split and entropy are ')\n",
    "                #print(best_overall_split_value)\n",
    "            stop = timeit.default_timer()     \n",
    "            #print (stop - start) \n",
    "            #print('best feature split entropy: ' + str(best_overall_split_entropy))\n",
    "            #print('best feature split feature: ' + best_overall_feature)\n",
    "            #print('best feature splitting value: ' + str(best_overall_split_value))\n",
    "            #print('_____________________________')\n",
    "\n",
    "            # Join data with the label and split according to the split value\n",
    "            # Then separate out the data from the label again\n",
    "            # print('best overall feature is ' + str(best_overall_feature) + ' at level ' + str(curLevel))\n",
    "\n",
    "            data['label'] = labels\n",
    "            leftSet = data[data [best_overall_feature] <= best_overall_split_value]\n",
    "            rightSet = data[data [best_overall_feature] > best_overall_split_value]\n",
    "            \n",
    "            leftLabels = leftSet['label']\n",
    "            rightLabels = rightSet['label']\n",
    "            del leftSet['label']\n",
    "            del rightSet['label']\n",
    "            \n",
    "            #print('creating a node at level ' + str(curLevel) + ' with feature ' + best_overall_feature \n",
    "            #      + ' and split value ' + str(best_overall_split_value))\n",
    "            \n",
    "            root.feature = best_overall_feature\n",
    "            root.value = best_overall_split_value\n",
    "            root.left = Node(None, None, None, None, None)\n",
    "            self.train(root.left, leftSet, leftLabels, curLevel+1, maxLevel, percentFeatures)\n",
    "            root.right = Node(None, None, None, None, None)\n",
    "            self.train(root.right, rightSet, rightLabels, curLevel+1, maxLevel, percentFeatures)\n",
    "            \n",
    "    def predict(self, data, node):\n",
    "        #print('in predict')\n",
    "        if node.right is None and node.left is None:\n",
    "            #print('The label is ' + str(node.label))\n",
    "            #if (node.label == 0):\n",
    "            #    print(\"Therefore the label is spam\")\n",
    "            #else:\n",
    "            #    print(\"Therefore the label is ham\")\n",
    "            return node.label\n",
    "        else:\n",
    "            #print('The feature is ' + str(node.feature))\n",
    "            #print('The value is ' + str(node.value))\n",
    "            #print('The data is ' + str(data[node.feature]))\n",
    "            #print('done data')\n",
    "            if data [node.feature] <= node.value:\n",
    "                #print(str(node.feature) + ' <= ' + str(node.value) )\n",
    "                return self.predict(data, node.left)\n",
    "            else:\n",
    "                #print(str(node.feature) + ' > ' + str(node.value) )\n",
    "                return self.predict(data, node.right)\n",
    "        \n",
    "    def computeAccuracy(self, isTrain):\n",
    "        numRight = 0\n",
    "        if isTrain:\n",
    "            for index, row in self.train_data.iterrows():\n",
    "                if (self.predict(row, self.root) == self.train_labels[index]):\n",
    "                    numRight += 1\n",
    "            return numRight / len(self.train_labels)\n",
    "        \n",
    "        else:\n",
    "            for index, row in self.val_data.iterrows():\n",
    "                if (self.predict(row, self.root) == self.val_labels[index]):\n",
    "                    numRight += 1\n",
    "            \n",
    "            return numRight / len(self.val_labels)"
   ]
  },
  {
   "cell_type": "markdown",
   "metadata": {},
   "source": [
    "<h2>Titanic Decision Tree</h2>"
   ]
  },
  {
   "cell_type": "code",
   "execution_count": 37,
   "metadata": {
    "collapsed": false
   },
   "outputs": [
    {
     "name": "stderr",
     "output_type": "stream",
     "text": [
      "/Users/aiswaryasankar/anaconda3/lib/python3.4/site-packages/ipykernel/__main__.py:118: SettingWithCopyWarning: \n",
      "A value is trying to be set on a copy of a slice from a DataFrame.\n",
      "Try using .loc[row_indexer,col_indexer] = value instead\n",
      "\n",
      "See the caveats in the documentation: http://pandas.pydata.org/pandas-docs/stable/indexing.html#indexing-view-versus-copy\n"
     ]
    },
    {
     "name": "stdout",
     "output_type": "stream",
     "text": [
      "training acc is 0.8125\n",
      "validation acc is 0.815\n",
      "training acc is 0.83875\n",
      "validation acc is 0.81\n",
      "training acc is 0.855\n",
      "validation acc is 0.795\n"
     ]
    }
   ],
   "source": [
    "# Create decision tree with all the data\n",
    "titanic_classifier = DecisionTree(titanic_train_df, titanic_train_labels,\n",
    "                                 titanic_val_df, titanic_val_labels)\n",
    "\n",
    "# Train the decision tree with different parameters for number of levels\n",
    "# After training the model find the training and validation accuracies\n",
    "\n",
    "levels = [3, 5, 7]\n",
    "\n",
    "for level in levels:\n",
    "    if ('label' in titanic_train_df.columns):\n",
    "        del titanic_train_df['label']\n",
    "    titanic_classifier.train(titanic_classifier.root, titanic_train_df, \n",
    "                             titanic_train_labels, 0, level, 1)\n",
    "    titanicTrainingAcc = titanic_classifier.computeAccuracy(True)\n",
    "    titanicValAcc = titanic_classifier.computeAccuracy(False)\n",
    "    print('training acc is ' + str(titanicTrainingAcc))\n",
    "    print('validation acc is ' + str(titanicValAcc))\n"
   ]
  },
  {
   "cell_type": "markdown",
   "metadata": {},
   "source": [
    "<h2>Titanic Submission</h2>"
   ]
  },
  {
   "cell_type": "code",
   "execution_count": 38,
   "metadata": {
    "collapsed": false
   },
   "outputs": [
    {
     "name": "stdout",
     "output_type": "stream",
     "text": [
      "deleted label\n"
     ]
    },
    {
     "name": "stderr",
     "output_type": "stream",
     "text": [
      "/Users/aiswaryasankar/anaconda3/lib/python3.4/site-packages/ipykernel/__main__.py:118: SettingWithCopyWarning: \n",
      "A value is trying to be set on a copy of a slice from a DataFrame.\n",
      "Try using .loc[row_indexer,col_indexer] = value instead\n",
      "\n",
      "See the caveats in the documentation: http://pandas.pydata.org/pandas-docs/stable/indexing.html#indexing-view-versus-copy\n"
     ]
    }
   ],
   "source": [
    "if ('label' in titanic_train_df.columns):\n",
    "    del titanic_train_df['label']\n",
    "    \n",
    "titanic_classifier.train(titanic_classifier.root, titanic_train_df, \n",
    "                             titanic_train_labels, 0, 3, 1)\n",
    "pred = []\n",
    "for index, row in titanic_test_df.iterrows():\n",
    "    pred.append(titanic_classifier.predict(row, titanic_classifier.root))\n",
    "\n",
    "from collections import OrderedDict\n",
    "\n",
    "indexArr = [i for i in range(1, len(pred)+1)]\n",
    "d = OrderedDict()\n",
    "d[\"Id\"] = indexArr\n",
    "d[\"Category\"] = pred\n",
    "\n",
    "output = pd.DataFrame(data=d)\n",
    "output.to_csv('PredTitanic.csv', index=False)"
   ]
  },
  {
   "cell_type": "code",
   "execution_count": 39,
   "metadata": {
    "collapsed": false
   },
   "outputs": [
    {
     "name": "stdout",
     "output_type": "stream",
     "text": [
      "sex_female 0\n",
      "\tage 3.0\n",
      "\t\tsibsp 1.0\n",
      "\t\t\tfare 13.775\n",
      "\t\t\t\t0\n",
      "\t\t\t\t1\n",
      "\t\t\tpclass 3.0\n",
      "\t\t\t\t0\n",
      "\t\t\t\t0\n",
      "\t\tpclass 1.0\n",
      "\t\t\tage 54.0\n",
      "\t\t\t\t0\n",
      "\t\t\t\t0\n",
      "\t\t\tage 32.0\n",
      "\t\t\t\t0\n",
      "\t\t\t\t0\n",
      "\tpclass 2.0\n",
      "\t\tembarked_S 0\n",
      "\t\t\tpclass 1.0\n",
      "\t\t\t\t1\n",
      "\t\t\t\t1\n",
      "\t\t\tage 58.0\n",
      "\t\t\t\t1\n",
      "\t\t\t\t1\n",
      "\t\tfare 22.3583\n",
      "\t\t\tfare 7.25\n",
      "\t\t\t\t1\n",
      "\t\t\t\t1\n",
      "\t\t\tage 5.0\n",
      "\t\t\t\t0\n",
      "\t\t\t\t0\n"
     ]
    }
   ],
   "source": [
    "def printTree(node, level):\n",
    "    if node.right == None and node.left == None:\n",
    "        print('\\t' * level + str(node.label))\n",
    "    else:\n",
    "        print('\\t' * level + str(node.feature) + \" \" + str(node.value))\n",
    "        printTree(node.left, level+1)\n",
    "        printTree(node.right, level+1)\n",
    "        \n",
    "printTree(titanic_classifier.root, 0)"
   ]
  },
  {
   "cell_type": "markdown",
   "metadata": {},
   "source": [
    "<h2>Census Decision Tree</h2>"
   ]
  },
  {
   "cell_type": "code",
   "execution_count": 40,
   "metadata": {
    "collapsed": false
   },
   "outputs": [
    {
     "name": "stderr",
     "output_type": "stream",
     "text": [
      "/Users/aiswaryasankar/anaconda3/lib/python3.4/site-packages/ipykernel/__main__.py:118: SettingWithCopyWarning: \n",
      "A value is trying to be set on a copy of a slice from a DataFrame.\n",
      "Try using .loc[row_indexer,col_indexer] = value instead\n",
      "\n",
      "See the caveats in the documentation: http://pandas.pydata.org/pandas-docs/stable/indexing.html#indexing-view-versus-copy\n"
     ]
    },
    {
     "name": "stdout",
     "output_type": "stream",
     "text": [
      "training acc is 0.8064861148248597\n",
      "validation acc is 0.7943468296409473\n"
     ]
    }
   ],
   "source": [
    "# Create decision tree with all the data\n",
    "census_classifier = DecisionTree(census_train_df, census_train_labels,\n",
    "                                 census_val_df, census_val_labels)\n",
    "\n",
    "# Train the decision tree with different parameters for number of levels\n",
    "# After training the model find the training and validation accuracies\n",
    "\n",
    "levels = [1]\n",
    "\n",
    "for level in levels:\n",
    "    if ('label' in census_train_df.columns):\n",
    "        del census_train_df['label']\n",
    "\n",
    "    census_classifier.train(census_classifier.root, census_train_df, \n",
    "                             census_train_labels, 0, level, 1)\n",
    "    censusTrainingAcc = census_classifier.computeAccuracy(True)\n",
    "    censusValAcc = census_classifier.computeAccuracy(False)\n",
    "    print('training acc is ' + str(censusTrainingAcc))\n",
    "    print('validation acc is ' + str(censusValAcc))\n"
   ]
  },
  {
   "cell_type": "markdown",
   "metadata": {},
   "source": [
    "<h2>Census Tree Depth</h2>"
   ]
  },
  {
   "cell_type": "code",
   "execution_count": 42,
   "metadata": {
    "collapsed": false,
    "scrolled": true
   },
   "outputs": [
    {
     "name": "stderr",
     "output_type": "stream",
     "text": [
      "/Users/aiswaryasankar/anaconda3/lib/python3.4/site-packages/ipykernel/__main__.py:118: SettingWithCopyWarning: \n",
      "A value is trying to be set on a copy of a slice from a DataFrame.\n",
      "Try using .loc[row_indexer,col_indexer] = value instead\n",
      "\n",
      "See the caveats in the documentation: http://pandas.pydata.org/pandas-docs/stable/indexing.html#indexing-view-versus-copy\n"
     ]
    },
    {
     "name": "stdout",
     "output_type": "stream",
     "text": [
      "0.839266615737204\n",
      "0.839266615737204\n",
      "0.8446142093200917\n",
      "0.8456837280366692\n",
      "0.8508785332314744\n"
     ]
    }
   ],
   "source": [
    "depths = [2, 3, 4, 5, 10, 20]\n",
    "val_acc = []\n",
    "\n",
    "for depth in depths:\n",
    "    #Botch fix\n",
    "    if ('label' in census_train_df.columns):\n",
    "        del census_train_df['label']\n",
    "        \n",
    "    census_classifier.train(census_classifier.root, census_train_df, \n",
    "                             census_train_labels, 0, depth, 1)\n",
    "    print(census_classifier.computeAccuracy(False))\n",
    "    val_acc.append(census_classifier.computeAccuracy(False))"
   ]
  },
  {
   "cell_type": "code",
   "execution_count": 51,
   "metadata": {
    "collapsed": false
   },
   "outputs": [
    {
     "data": {
      "text/plain": [
       "<matplotlib.text.Text at 0x11072e668>"
      ]
     },
     "execution_count": 51,
     "metadata": {},
     "output_type": "execute_result"
    },
    {
     "data": {
      "image/png": "[encoded data removed]",
      "text/plain": [
       "<matplotlib.figure.Figure at 0x1142e60f0>"
      ]
     },
     "metadata": {},
     "output_type": "display_data"
    }
   ],
   "source": [
    "import matplotlib.pyplot as plt\n",
    "%matplotlib inline\n",
    "val_acc = [0.839266615737204, 0.839266615737204, 0.8446142093200917, 0.8456837280366692, 0.8508785332314744, 0.8343773873185638]\n",
    "depths = [2,3,4,5,10,20]\n",
    "\n",
    "plt.plot(depths, val_acc, 'ro')\n",
    "plt.xlabel('Number of trees')\n",
    "plt.ylabel(\"Validation accuracy\")"
   ]
  },
  {
   "cell_type": "markdown",
   "metadata": {},
   "source": [
    "<h2>Census Submission</h2>"
   ]
  },
  {
   "cell_type": "code",
   "execution_count": 32,
   "metadata": {
    "collapsed": false
   },
   "outputs": [],
   "source": [
    "pred = []\n",
    "for index, row in census_test_df.iterrows():\n",
    "    pred.append(census_classifier.predict(row, census_classifier.root))\n",
    "\n",
    "from collections import OrderedDict\n",
    "\n",
    "indexArr = [i for i in range(1, len(pred)+1)]\n",
    "d = OrderedDict()\n",
    "d[\"Id\"] = indexArr\n",
    "d[\"Category\"] = pred\n",
    "\n",
    "output = pd.DataFrame(data=d)\n",
    "output.to_csv('PredictionsCensus.csv', index=False)"
   ]
  },
  {
   "cell_type": "markdown",
   "metadata": {},
   "source": [
    "<h2>Spam Decision Tree</h2>"
   ]
  },
  {
   "cell_type": "code",
   "execution_count": 52,
   "metadata": {
    "collapsed": false
   },
   "outputs": [
    {
     "name": "stderr",
     "output_type": "stream",
     "text": [
      "/Users/aiswaryasankar/anaconda3/lib/python3.4/site-packages/ipykernel/__main__.py:118: SettingWithCopyWarning: \n",
      "A value is trying to be set on a copy of a slice from a DataFrame.\n",
      "Try using .loc[row_indexer,col_indexer] = value instead\n",
      "\n",
      "See the caveats in the documentation: http://pandas.pydata.org/pandas-docs/stable/indexing.html#indexing-view-versus-copy\n"
     ]
    },
    {
     "name": "stdout",
     "output_type": "stream",
     "text": [
      "training acc is 0.7884605242339539\n",
      "validation acc is 0.7717781058848344\n"
     ]
    }
   ],
   "source": [
    "spam_classifier = DecisionTree(spam_train_df, spam_train_labels,\n",
    "                                 spam_val_df, spam_val_labels)\n",
    "\n",
    "# Train the decision tree with different parameters for number of levels\n",
    "# After training the model find the training and validation accuracies\n",
    "\n",
    "levels = [10]\n",
    "\n",
    "for level in levels:\n",
    "    if ('label' in spam_train_df.columns):\n",
    "        del spam_train_df['label']\n",
    "        \n",
    "    spam_classifier.train(spam_classifier.root, spam_train_df, \n",
    "                             spam_train_labels, 0, level, 1)\n",
    "    spamTrainingAcc = spam_classifier.computeAccuracy(True)\n",
    "    spamValAcc = spam_classifier.computeAccuracy(False)\n",
    "    print('training acc is ' + str(spamTrainingAcc))\n",
    "    print('validation acc is ' + str(spamValAcc))"
   ]
  },
  {
   "cell_type": "markdown",
   "metadata": {},
   "source": [
    "<h2>Spam Prediction Splits</h2>"
   ]
  },
  {
   "cell_type": "code",
   "execution_count": 81,
   "metadata": {
    "collapsed": false
   },
   "outputs": [
    {
     "name": "stdout",
     "output_type": "stream",
     "text": [
      "in predict\n",
      "28 > 0.0\n",
      "in predict\n",
      "13 <= 0.0\n",
      "in predict\n",
      "3 <= 0.0\n",
      "in predict\n",
      "29 > 0.0\n",
      "in predict\n",
      "28 <= 2.0\n",
      "in predict\n",
      "15 <= 1.0\n",
      "in predict\n",
      "9 <= 0.0\n",
      "in predict\n",
      "31 <= 0.0\n",
      "in predict\n",
      "26 <= 0.0\n",
      "in predict\n",
      "29 > 3.0\n",
      "in predict\n",
      "27 <= 0.0\n",
      "in predict\n",
      "Therefore the label is spam\n",
      "in predict\n",
      "28 > 0.0\n",
      "in predict\n",
      "13 <= 0.0\n",
      "in predict\n",
      "3 <= 0.0\n",
      "in predict\n",
      "29 <= 0.0\n",
      "in predict\n",
      "28 <= 29.0\n",
      "in predict\n",
      "6 <= 0.0\n",
      "in predict\n",
      "26 <= 0.0\n",
      "in predict\n",
      "0 <= 0.0\n",
      "in predict\n",
      "28 > 1.0\n",
      "in predict\n",
      "16 <= 0.0\n",
      "in predict\n",
      "25 > 1.0\n",
      "in predict\n",
      "Therefore the label is ham\n"
     ]
    },
    {
     "data": {
      "text/plain": [
       "1"
      ]
     },
     "execution_count": 81,
     "metadata": {},
     "output_type": "execute_result"
    }
   ],
   "source": [
    "# Choose a data point from spam and ham\n",
    "#for i in range(20):\n",
    "#    if spam_classifier.predict(spam_train_df.iloc[i], spam_classifier.root) == 'ham':\n",
    "#        print(i)\n",
    "sample1 = spam_train_df.iloc[9]\n",
    "sample2 = spam_train_df.iloc[4]\n",
    "\n",
    "spam_classifier.predict(sample1, spam_classifier.root)\n",
    "spam_classifier.predict(sample2, spam_classifier.root)"
   ]
  },
  {
   "cell_type": "markdown",
   "metadata": {},
   "source": [
    "<h2>Spam Submission</h2>"
   ]
  },
  {
   "cell_type": "code",
   "execution_count": 54,
   "metadata": {
    "collapsed": false
   },
   "outputs": [],
   "source": [
    "pred = []\n",
    "for index, row in spam_test_df.iterrows():\n",
    "    pred.append(spam_classifier.predict(row, spam_classifier.root))\n",
    "\n",
    "from collections import OrderedDict\n",
    "\n",
    "indexArr = [i for i in range(len(pred))]\n",
    "d = OrderedDict()\n",
    "d[\"Id\"] = indexArr\n",
    "d[\"Category\"] = pred\n",
    "\n",
    "output = pd.DataFrame(data=d)\n",
    "output.to_csv('PredictionsSpam.csv', index=False)"
   ]
  },
  {
   "cell_type": "markdown",
   "metadata": {},
   "source": [
    "<h2> Random Forest</h2>"
   ]
  },
  {
   "cell_type": "code",
   "execution_count": 55,
   "metadata": {
    "collapsed": true
   },
   "outputs": [],
   "source": [
    "class RandomForest():\n",
    "    \n",
    "    def __init__(self, train_df, train_labels, val_df, val_labels):\n",
    "        self.train_df = train_df\n",
    "        self.train_labels = train_labels\n",
    "        self.val_df = val_df\n",
    "        self.val_labels = val_labels\n",
    "        self.forest = []\n",
    "        \n",
    "    def train(self, data, labels, numTrees, featuresPerSplit, dataSubsample):\n",
    "        \n",
    "        for i in range(numTrees):\n",
    "            # Create the data subset to use for this tree\n",
    "            # First I need to combine the data and the labels in order to make sure that I \n",
    "            # subsample both of the datasets at the same time and they match up appropriately\n",
    "            \n",
    "            merged = pd.concat([data, labels], axis=1)\n",
    "            \n",
    "            # Now I need to subsample a number of the rows\n",
    "            # This is another hyperparameter\n",
    "            merged.sample(frac=dataSubsample, replace=True)\n",
    "            \n",
    "            # Now split this back up into the train and labels dataframes\n",
    "            data = merged.iloc[:, :-1]\n",
    "            labels = merged.iloc[:, -1]\n",
    "            \n",
    "            # This will create a list of classifiers\n",
    "            # Now I need to actually go in and train each of them\n",
    "            tree = DecisionTree(data, labels, self.val_df, self.val_labels)\n",
    "            \n",
    "            # Botch fix again\n",
    "            if ('label' in data.columns):\n",
    "                del data['label']\n",
    "                print('deleted label')\n",
    "                \n",
    "            tree.train(tree.root, data, labels, 0, 3, featuresPerSplit)\n",
    "            self.forest.append(tree)\n",
    "            \n",
    "    def computeForestAcc(self, isTrain):\n",
    "        # In order to predict I need to pass each point through every tree and take the most\n",
    "        # common output\n",
    "        numRight = 0\n",
    "        \n",
    "        if isTrain:\n",
    "            data = self.train_df\n",
    "            labels = self.train_labels\n",
    "        else:\n",
    "            data = self.val_df\n",
    "            labels = self.val_labels\n",
    "            \n",
    "        # Computes the predictions with each of the trees in the forest\n",
    "        for index, row in data.iterrows():\n",
    "            treePred = []\n",
    "            for tree in self.forest:\n",
    "                treePred.append(tree.predict(row, tree.root))\n",
    "                \n",
    "            # Choose the most common prediction out of all tree predictions\n",
    "            bestPred = np.argmax([treePred.count(0.0), treePred.count(1.0)])\n",
    "            if (bestPred == labels[index]):\n",
    "                numRight += 1\n",
    "                \n",
    "        return numRight / len(labels)\n",
    "    "
   ]
  },
  {
   "cell_type": "markdown",
   "metadata": {},
   "source": [
    "<h2>Run Random Forest</h2>"
   ]
  },
  {
   "cell_type": "code",
   "execution_count": 56,
   "metadata": {
    "collapsed": true
   },
   "outputs": [],
   "source": [
    "def run_rf(train_df, train_labels, val_df, val_labels):\n",
    "    forest = RandomForest(train_df, train_labels, val_df, val_labels)\n",
    "\n",
    "    numTrees = [5, 10, 15]\n",
    "    featuresPerSplits = [.5]\n",
    "    dataSubsamples = [.5]\n",
    "\n",
    "    for numTree in numTrees:\n",
    "        for featuresPerSplit in featuresPerSplits:\n",
    "            for dataSubsample in dataSubsamples:\n",
    "                \n",
    "                forest.train(train_df, train_labels, numTree, featuresPerSplit, dataSubsample)\n",
    "                trainingAcc = forest.computeForestAcc(True)\n",
    "                valAcc = forest.computeForestAcc(False)\n",
    "            \n",
    "                print('training acc is ' + str(trainingAcc))\n",
    "                print('validation acc is ' + str(valAcc))"
   ]
  },
  {
   "cell_type": "markdown",
   "metadata": {},
   "source": [
    "<h2>Titanic Random Forest</h2>"
   ]
  },
  {
   "cell_type": "code",
   "execution_count": 57,
   "metadata": {
    "collapsed": false
   },
   "outputs": [
    {
     "name": "stdout",
     "output_type": "stream",
     "text": [
      "deleted label\n"
     ]
    },
    {
     "name": "stderr",
     "output_type": "stream",
     "text": [
      "/Users/aiswaryasankar/anaconda3/lib/python3.4/site-packages/ipykernel/__main__.py:118: SettingWithCopyWarning: \n",
      "A value is trying to be set on a copy of a slice from a DataFrame.\n",
      "Try using .loc[row_indexer,col_indexer] = value instead\n",
      "\n",
      "See the caveats in the documentation: http://pandas.pydata.org/pandas-docs/stable/indexing.html#indexing-view-versus-copy\n"
     ]
    },
    {
     "name": "stdout",
     "output_type": "stream",
     "text": [
      "deleted label\n",
      "deleted label\n",
      "deleted label\n",
      "deleted label\n",
      "training acc is 0.81625\n",
      "validation acc is 0.8\n",
      "deleted label\n",
      "deleted label\n",
      "deleted label\n",
      "deleted label\n",
      "deleted label\n",
      "deleted label\n",
      "deleted label\n",
      "deleted label\n",
      "deleted label\n",
      "deleted label\n",
      "training acc is 0.8175\n",
      "validation acc is 0.815\n",
      "deleted label\n",
      "deleted label\n",
      "deleted label\n",
      "deleted label\n",
      "deleted label\n",
      "deleted label\n",
      "deleted label\n",
      "deleted label\n",
      "deleted label\n",
      "deleted label\n",
      "deleted label\n",
      "deleted label\n",
      "deleted label\n",
      "deleted label\n",
      "deleted label\n",
      "training acc is 0.815\n",
      "validation acc is 0.81\n"
     ]
    }
   ],
   "source": [
    "run_rf(titanic_train_df, titanic_train_labels, titanic_val_df, titanic_val_labels)"
   ]
  },
  {
   "cell_type": "code",
   "execution_count": null,
   "metadata": {
    "collapsed": false
   },
   "outputs": [],
   "source": [
    "# Create random forest\n",
    "\n",
    "titanic_forest = RandomForest(titanic_train_df, titanic_train_labels,\n",
    "                                 titanic_val_df, titanic_val_labels)\n",
    "\n",
    "# Train the decision tree with different parameters for number of levels\n",
    "# After training the model find the training and validation accuracies\n",
    "# There are 3 hyperparameters: number of trees, percent of features per split and \n",
    "# fraction of data used for bagging\n",
    "# Percent features per split is passed into DecisionTree and dataSubsample is used in \n",
    "# the RandomForest train method to select data to be passed in\n",
    "# Thus I need three hyperparameter loops\n",
    "\n",
    "numTrees = [5, 10, 15]\n",
    "featuresPerSplits = [.5]\n",
    "dataSubsamples = [.5]\n",
    "\n",
    "for numTree in numTrees:\n",
    "    for featuresPerSplit in featuresPerSplits:\n",
    "        for dataSubsample in dataSubsamples:\n",
    "                \n",
    "            titanic_forest.train(titanic_train_df, titanic_train_labels, \n",
    "                     numTree, featuresPerSplit, dataSubsample)\n",
    "            titanicTrainingAcc = titanic_forest.computeForestAcc(True)\n",
    "            titanicValAcc = titanic_forest.computeForestAcc(False)\n",
    "            \n",
    "            print('training acc is ' + str(titanicTrainingAcc))\n",
    "            print('validation acc is ' + str(titanicValAcc))"
   ]
  },
  {
   "cell_type": "markdown",
   "metadata": {},
   "source": [
    "<h2>Census Random Forest</h2>"
   ]
  },
  {
   "cell_type": "code",
   "execution_count": 58,
   "metadata": {
    "collapsed": false
   },
   "outputs": [
    {
     "name": "stdout",
     "output_type": "stream",
     "text": [
      "deleted label\n"
     ]
    },
    {
     "name": "stderr",
     "output_type": "stream",
     "text": [
      "/Users/aiswaryasankar/anaconda3/lib/python3.4/site-packages/ipykernel/__main__.py:118: SettingWithCopyWarning: \n",
      "A value is trying to be set on a copy of a slice from a DataFrame.\n",
      "Try using .loc[row_indexer,col_indexer] = value instead\n",
      "\n",
      "See the caveats in the documentation: http://pandas.pydata.org/pandas-docs/stable/indexing.html#indexing-view-versus-copy\n"
     ]
    },
    {
     "name": "stdout",
     "output_type": "stream",
     "text": [
      "deleted label\n",
      "deleted label\n",
      "deleted label\n",
      "deleted label\n",
      "training acc is 0.8435005156805073\n",
      "validation acc is 0.8372803666921314\n",
      "deleted label\n",
      "deleted label\n",
      "deleted label\n",
      "deleted label\n",
      "deleted label\n",
      "deleted label\n",
      "deleted label\n",
      "deleted label\n",
      "deleted label\n",
      "deleted label\n",
      "training acc is 0.8446464723633447\n",
      "validation acc is 0.8400305576776165\n",
      "deleted label\n",
      "deleted label\n",
      "deleted label\n",
      "deleted label\n",
      "deleted label\n",
      "deleted label\n",
      "deleted label\n",
      "deleted label\n",
      "deleted label\n",
      "deleted label\n",
      "deleted label\n",
      "deleted label\n",
      "deleted label\n",
      "deleted label\n",
      "deleted label\n",
      "training acc is 0.8450284579242905\n",
      "validation acc is 0.8394194041252865\n"
     ]
    }
   ],
   "source": [
    "# Create random forest\n",
    "\n",
    "census_forest = RandomForest(census_train_df, census_train_labels,\n",
    "                                 census_val_df, census_val_labels)\n",
    "\n",
    "# Train the decision tree with different parameters for number of levels\n",
    "# After training the model find the training and validation accuracies\n",
    "# There are 3 hyperparameters: number of trees, percent of features per split and \n",
    "# fraction of data used for bagging\n",
    "# Percent features per split is passed into DecisionTree and dataSubsample is used in \n",
    "# the RandomForest train method to select data to be passed in\n",
    "# Thus I need three hyperparameter loops\n",
    "\n",
    "numTrees = [5, 10, 15]\n",
    "featuresPerSplits = [.5]\n",
    "dataSubsamples = [.5]\n",
    "\n",
    "for numTree in numTrees:\n",
    "    for featuresPerSplit in featuresPerSplits:\n",
    "        for dataSubsample in dataSubsamples:\n",
    "                \n",
    "            census_forest.train(census_train_df, census_train_labels, \n",
    "                     numTree, featuresPerSplit, dataSubsample)\n",
    "            censusTrainingAcc = census_forest.computeForestAcc(True)\n",
    "            censusValAcc = census_forest.computeForestAcc(False)\n",
    "            \n",
    "            print('training acc is ' + str(censusTrainingAcc))\n",
    "            print('validation acc is ' + str(censusValAcc))"
   ]
  },
  {
   "cell_type": "markdown",
   "metadata": {},
   "source": [
    "<h2>Spam Random Forest</h2>"
   ]
  },
  {
   "cell_type": "code",
   "execution_count": 59,
   "metadata": {
    "collapsed": false
   },
   "outputs": [
    {
     "name": "stdout",
     "output_type": "stream",
     "text": [
      "deleted label\n"
     ]
    },
    {
     "name": "stderr",
     "output_type": "stream",
     "text": [
      "/Users/aiswaryasankar/anaconda3/lib/python3.4/site-packages/ipykernel/__main__.py:118: SettingWithCopyWarning: \n",
      "A value is trying to be set on a copy of a slice from a DataFrame.\n",
      "Try using .loc[row_indexer,col_indexer] = value instead\n",
      "\n",
      "See the caveats in the documentation: http://pandas.pydata.org/pandas-docs/stable/indexing.html#indexing-view-versus-copy\n"
     ]
    },
    {
     "name": "stdout",
     "output_type": "stream",
     "text": [
      "deleted label\n",
      "deleted label\n",
      "deleted label\n",
      "deleted label\n",
      "deleted label\n",
      "deleted label\n",
      "deleted label\n",
      "deleted label\n",
      "deleted label\n",
      "deleted label\n",
      "deleted label\n",
      "deleted label\n",
      "deleted label\n",
      "deleted label\n",
      "training acc is 0.7318706819260588\n",
      "validation acc is 0.7304366167475216\n"
     ]
    }
   ],
   "source": [
    "# Create random forest\n",
    "\n",
    "spam_forest = RandomForest(spam_train_df, spam_train_labels,\n",
    "                                 spam_val_df, spam_val_labels)\n",
    "\n",
    "numTrees = [15]\n",
    "featuresPerSplits = [.5]\n",
    "dataSubsamples = [.5]\n",
    "\n",
    "for numTree in numTrees:\n",
    "    for featuresPerSplit in featuresPerSplits:\n",
    "        for dataSubsample in dataSubsamples:\n",
    "                \n",
    "            spam_forest.train(spam_train_df, spam_train_labels, \n",
    "                     numTree, featuresPerSplit, dataSubsample)\n",
    "            spamTrainingAcc = spam_forest.computeForestAcc(True)\n",
    "            spamValAcc = spam_forest.computeForestAcc(False)\n",
    "            \n",
    "            print('training acc is ' + str(spamTrainingAcc))\n",
    "            print('validation acc is ' + str(spamValAcc))"
   ]
  },
  {
   "cell_type": "markdown",
   "metadata": {},
   "source": [
    "<h2>Random Forest Classifications</h2>"
   ]
  },
  {
   "cell_type": "code",
   "execution_count": 60,
   "metadata": {
    "collapsed": false
   },
   "outputs": [
    {
     "name": "stdout",
     "output_type": "stream",
     "text": [
      "[[[3, 0.0], 4], [[28, 0.0], 11]]\n",
      "[[3, 0.0], [3, 0.0], [3, 0.0], [3, 0.0], [28, 0.0], [28, 0.0], [28, 0.0], [28, 0.0], [28, 0.0], [28, 0.0], [28, 0.0], [28, 0.0], [28, 0.0], [28, 0.0], [28, 0.0]]\n"
     ]
    }
   ],
   "source": [
    "# Find and state the most common splits made at the root node of the trees\n",
    "rootLabels = []\n",
    "for tree in spam_forest.forest:\n",
    "    rootLabels.append([tree.root.feature, tree.root.value])\n",
    "    \n",
    "from itertools import groupby\n",
    "rootLabels.sort()\n",
    "numTrees = len(rootLabels)\n",
    "print([[key, len(list(group))] for key, group in groupby(rootLabels)])\n",
    "print(rootLabels)"
   ]
  },
  {
   "cell_type": "code",
   "execution_count": null,
   "metadata": {
    "collapsed": true
   },
   "outputs": [],
   "source": []
  }
 ],
 "metadata": {
  "kernelspec": {
   "display_name": "Python 3",
   "language": "python",
   "name": "python3"
  },
  "language_info": {
   "codemirror_mode": {
    "name": "ipython",
    "version": 3
   },
   "file_extension": ".py",
   "mimetype": "text/x-python",
   "name": "python",
   "nbconvert_exporter": "python",
   "pygments_lexer": "ipython3",
   "version": "3.4.5"
  }
 },
 "nbformat": 4,
 "nbformat_minor": 1
}
